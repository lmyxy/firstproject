{
 "cells": [
  {
   "cell_type": "markdown",
   "id": "cf7c1cd4",
   "metadata": {},
   "source": [
    "## 人脸辨识"
   ]
  },
  {
   "cell_type": "code",
   "execution_count": 1,
   "id": "09bca335",
   "metadata": {},
   "outputs": [],
   "source": [
    "import face_recognition"
   ]
  },
  {
   "cell_type": "code",
   "execution_count": 2,
   "id": "d8941f99",
   "metadata": {},
   "outputs": [],
   "source": [
    "#加载两张已知面孔的图片\n",
    "known_obama_image=face_recognition.load_image_file(r\"C:\\Users\\lmy\\Desktop\\人脸数据集\\奥巴马\\train1.jpg\")\n",
    "# known_obama_image=face_recognition.load_image_file(r\"C:\\Users\\lmy\\Desktop\\OIP-C.jpg\")\n",
    "known_biden_image=face_recognition.load_image_file(r\"C:\\Users\\lmy\\Desktop\\人脸数据集\\川普\\train.jpg\")"
   ]
  },
  {
   "cell_type": "code",
   "execution_count": 3,
   "id": "60c1482b",
   "metadata": {},
   "outputs": [
    {
     "data": {
      "text/plain": [
       "(1322, 2000, 3)"
      ]
     },
     "execution_count": 3,
     "metadata": {},
     "output_type": "execute_result"
    }
   ],
   "source": [
    "known_obama_image.shape"
   ]
  },
  {
   "cell_type": "code",
   "execution_count": 10,
   "id": "c3d17f8f",
   "metadata": {
    "collapsed": true
   },
   "outputs": [
    {
     "data": {
      "text/plain": [
       "array([-1.18973553e-01,  1.17385998e-01,  6.98301867e-02, -3.73908244e-02,\n",
       "        2.10069008e-02,  3.38665918e-02, -9.47531462e-02, -7.78539479e-02,\n",
       "        1.61354765e-01, -1.30334973e-01,  2.78965503e-01,  8.07581693e-02,\n",
       "       -2.13798076e-01, -1.33836165e-01,  7.42835701e-02,  1.37189716e-01,\n",
       "       -1.86161220e-01, -8.81380290e-02, -9.98462662e-02, -8.67561921e-02,\n",
       "        3.06037143e-02,  2.23313514e-02,  5.79081737e-02,  2.55351700e-02,\n",
       "       -1.16594374e-01, -3.87129217e-01, -5.41898012e-02, -1.64131746e-01,\n",
       "        1.06376028e-02, -1.35208949e-01, -1.09163135e-01, -2.83370037e-02,\n",
       "       -1.68595850e-01, -4.60464656e-02, -2.43901014e-02, -2.05899850e-02,\n",
       "        2.17053927e-02,  1.15536479e-02,  1.50875568e-01,  4.62008715e-02,\n",
       "       -1.16074227e-01,  9.12253857e-02, -2.13156026e-02,  2.37002835e-01,\n",
       "        2.61069626e-01,  8.47849995e-02,  2.56852694e-02, -8.84942636e-02,\n",
       "        7.19043016e-02, -2.11346313e-01,  3.50845344e-02,  1.48845598e-01,\n",
       "        6.72447830e-02,  7.18353968e-03,  9.52948257e-02, -2.09837705e-01,\n",
       "       -3.08315773e-02,  5.74854761e-02, -1.35593280e-01,  6.09093755e-02,\n",
       "        2.53067985e-02, -6.76190853e-02, -4.29160595e-02,  3.59874293e-02,\n",
       "        2.19904721e-01,  7.97522217e-02, -1.21004641e-01, -5.20360693e-02,\n",
       "        1.31507382e-01, -2.47020964e-02,  3.66439410e-02, -6.58452837e-03,\n",
       "       -2.03654677e-01, -2.42994770e-01, -2.18212321e-01,  9.89762843e-02,\n",
       "        3.18241537e-01,  1.69212893e-01, -2.31071144e-01,  5.13980240e-02,\n",
       "       -1.53768808e-01,  5.74241839e-02,  1.16083309e-01,  4.21505943e-02,\n",
       "       -4.70344499e-02, -9.94499624e-02, -6.13426901e-02,  7.13829473e-02,\n",
       "        8.01569745e-02,  2.96945050e-02,  6.76742615e-03,  2.16651812e-01,\n",
       "       -4.05664891e-02,  1.61117502e-02,  2.18626969e-02,  3.17184255e-02,\n",
       "       -1.22730643e-01, -2.05974914e-02, -1.58701986e-01, -4.63604182e-02,\n",
       "       -3.02304700e-03, -3.82192060e-02,  2.78693568e-02,  1.01784825e-01,\n",
       "       -1.96501881e-01,  5.63221201e-02,  9.06411838e-03, -3.37713473e-02,\n",
       "        1.60981417e-02,  5.28226420e-02, -4.63616624e-02, -4.64032404e-02,\n",
       "        7.25408345e-02, -2.40736455e-01,  2.32823640e-01,  2.65190423e-01,\n",
       "        3.06793880e-02,  1.83510274e-01,  6.34564608e-02,  5.80619462e-02,\n",
       "       -2.37633511e-02, -3.54676507e-04, -1.79579124e-01, -2.79788580e-02,\n",
       "        4.47875336e-02,  4.18380611e-02,  5.22371233e-02, -4.38259076e-03])"
      ]
     },
     "execution_count": 10,
     "metadata": {},
     "output_type": "execute_result"
    }
   ],
   "source": [
    "face_recognition.face_encodings(known_obama_image)[0]"
   ]
  },
  {
   "cell_type": "code",
   "execution_count": 4,
   "id": "fc6eb060",
   "metadata": {},
   "outputs": [],
   "source": [
    "#计算图片对应的编码\n",
    "img1_face_encoding=face_recognition.face_encodings(known_obama_image)[0]\n",
    "img2_face_encoding=face_recognition.face_encodings(known_biden_image)[0]"
   ]
  },
  {
   "cell_type": "code",
   "execution_count": 14,
   "id": "750d8612",
   "metadata": {},
   "outputs": [],
   "source": [
    "known_encodings=[]"
   ]
  },
  {
   "cell_type": "code",
   "execution_count": 5,
   "id": "0964257e",
   "metadata": {},
   "outputs": [],
   "source": [
    "known_encodings=[\n",
    "    img1_face_encoding,\n",
    "    img2_face_encoding\n",
    "]"
   ]
  },
  {
   "cell_type": "code",
   "execution_count": 13,
   "id": "9a8ea034",
   "metadata": {},
   "outputs": [],
   "source": [
    "known_encodings.append(img1_face_encoding)\n",
    "known_encodings.append(img2_face_encoding)"
   ]
  },
  {
   "cell_type": "code",
   "execution_count": 8,
   "id": "ba6fd162",
   "metadata": {},
   "outputs": [
    {
     "data": {
      "text/plain": [
       "(128,)"
      ]
     },
     "execution_count": 8,
     "metadata": {},
     "output_type": "execute_result"
    }
   ],
   "source": [
    "img2_face_encoding.shape"
   ]
  },
  {
   "cell_type": "code",
   "execution_count": 9,
   "id": "7b41ab8f",
   "metadata": {},
   "outputs": [
    {
     "data": {
      "text/plain": [
       "[array([-1.18973553e-01,  1.17385998e-01,  6.98301867e-02, -3.73908244e-02,\n",
       "         2.10069008e-02,  3.38665918e-02, -9.47531462e-02, -7.78539479e-02,\n",
       "         1.61354765e-01, -1.30334973e-01,  2.78965503e-01,  8.07581693e-02,\n",
       "        -2.13798076e-01, -1.33836165e-01,  7.42835701e-02,  1.37189716e-01,\n",
       "        -1.86161220e-01, -8.81380290e-02, -9.98462662e-02, -8.67561921e-02,\n",
       "         3.06037143e-02,  2.23313514e-02,  5.79081737e-02,  2.55351700e-02,\n",
       "        -1.16594374e-01, -3.87129217e-01, -5.41898012e-02, -1.64131746e-01,\n",
       "         1.06376028e-02, -1.35208949e-01, -1.09163135e-01, -2.83370037e-02,\n",
       "        -1.68595850e-01, -4.60464656e-02, -2.43901014e-02, -2.05899850e-02,\n",
       "         2.17053927e-02,  1.15536479e-02,  1.50875568e-01,  4.62008715e-02,\n",
       "        -1.16074227e-01,  9.12253857e-02, -2.13156026e-02,  2.37002835e-01,\n",
       "         2.61069626e-01,  8.47849995e-02,  2.56852694e-02, -8.84942636e-02,\n",
       "         7.19043016e-02, -2.11346313e-01,  3.50845344e-02,  1.48845598e-01,\n",
       "         6.72447830e-02,  7.18353968e-03,  9.52948257e-02, -2.09837705e-01,\n",
       "        -3.08315773e-02,  5.74854761e-02, -1.35593280e-01,  6.09093755e-02,\n",
       "         2.53067985e-02, -6.76190853e-02, -4.29160595e-02,  3.59874293e-02,\n",
       "         2.19904721e-01,  7.97522217e-02, -1.21004641e-01, -5.20360693e-02,\n",
       "         1.31507382e-01, -2.47020964e-02,  3.66439410e-02, -6.58452837e-03,\n",
       "        -2.03654677e-01, -2.42994770e-01, -2.18212321e-01,  9.89762843e-02,\n",
       "         3.18241537e-01,  1.69212893e-01, -2.31071144e-01,  5.13980240e-02,\n",
       "        -1.53768808e-01,  5.74241839e-02,  1.16083309e-01,  4.21505943e-02,\n",
       "        -4.70344499e-02, -9.94499624e-02, -6.13426901e-02,  7.13829473e-02,\n",
       "         8.01569745e-02,  2.96945050e-02,  6.76742615e-03,  2.16651812e-01,\n",
       "        -4.05664891e-02,  1.61117502e-02,  2.18626969e-02,  3.17184255e-02,\n",
       "        -1.22730643e-01, -2.05974914e-02, -1.58701986e-01, -4.63604182e-02,\n",
       "        -3.02304700e-03, -3.82192060e-02,  2.78693568e-02,  1.01784825e-01,\n",
       "        -1.96501881e-01,  5.63221201e-02,  9.06411838e-03, -3.37713473e-02,\n",
       "         1.60981417e-02,  5.28226420e-02, -4.63616624e-02, -4.64032404e-02,\n",
       "         7.25408345e-02, -2.40736455e-01,  2.32823640e-01,  2.65190423e-01,\n",
       "         3.06793880e-02,  1.83510274e-01,  6.34564608e-02,  5.80619462e-02,\n",
       "        -2.37633511e-02, -3.54676507e-04, -1.79579124e-01, -2.79788580e-02,\n",
       "         4.47875336e-02,  4.18380611e-02,  5.22371233e-02, -4.38259076e-03]),\n",
       " array([-1.30116016e-01,  1.43403083e-01,  6.03918768e-02, -3.77247930e-02,\n",
       "        -1.59586877e-01,  4.16934490e-02,  5.94880991e-02, -1.75805464e-01,\n",
       "         8.50942731e-02, -1.26913309e-01,  2.15198025e-01, -5.83435260e-02,\n",
       "        -3.34829211e-01, -6.41128272e-02,  2.04632804e-02,  1.15010366e-01,\n",
       "        -7.39266425e-02, -1.29555583e-01, -1.85562655e-01, -1.06367581e-01,\n",
       "         4.65197004e-02,  7.51147047e-02, -9.01672244e-03, -5.47697432e-02,\n",
       "        -8.35248902e-02, -2.72281915e-01, -7.01709762e-02, -3.54435630e-02,\n",
       "         2.97903568e-02, -7.66249821e-02,  4.47252691e-02,  4.81327549e-02,\n",
       "        -2.09526867e-01, -6.71626031e-02, -2.82987673e-03,  3.17702964e-02,\n",
       "        -6.80754930e-02, -3.40238437e-02,  7.01014102e-02, -4.31325212e-02,\n",
       "        -1.32831261e-01, -4.38113585e-02,  4.49577160e-03,  1.90204471e-01,\n",
       "         1.80645227e-01, -4.27844748e-03,  1.37568880e-02, -1.52133450e-01,\n",
       "         6.68788031e-02, -2.45213732e-01, -3.18722986e-03,  8.69554728e-02,\n",
       "         1.03118308e-01,  9.64455456e-02,  5.05085960e-02, -1.09922536e-01,\n",
       "         4.31357250e-02,  8.58997256e-02, -1.28616348e-01,  5.59230149e-02,\n",
       "         1.06193662e-01, -1.99623868e-01, -6.81732669e-02, -7.26605877e-02,\n",
       "         1.13549680e-01,  2.62219831e-02, -3.16870846e-02, -1.43557057e-01,\n",
       "         2.12762386e-01, -1.50971040e-01, -1.19711630e-01,  3.28601487e-02,\n",
       "        -6.48860484e-02, -1.19553715e-01, -3.13738853e-01,  1.20449811e-03,\n",
       "         4.01010931e-01,  1.48751453e-01, -2.04757228e-01, -5.01018278e-02,\n",
       "        -8.01395997e-02,  4.88014519e-02,  5.60923368e-02,  2.20040996e-02,\n",
       "        -7.24948794e-02, -9.89614949e-02, -1.24213137e-01,  6.99459240e-02,\n",
       "         2.37411827e-01, -1.12600476e-01, -2.40607001e-02,  2.51255512e-01,\n",
       "         4.28669415e-02,  1.43898791e-02,  6.95455298e-02,  4.81593683e-02,\n",
       "        -5.55900335e-02, -2.51848586e-02, -8.11326504e-02,  1.41476281e-04,\n",
       "         4.49084118e-02, -1.69237182e-01,  3.86354933e-03,  1.26674637e-01,\n",
       "        -1.40297219e-01,  2.36077636e-01, -3.31243500e-02,  2.45814361e-02,\n",
       "        -9.29191336e-03, -1.01561435e-01, -2.91332975e-02,  3.72162014e-02,\n",
       "         1.64302409e-01, -1.72561720e-01,  1.93185747e-01,  2.10095227e-01,\n",
       "        -2.09390894e-02,  1.32033110e-01,  2.90720668e-02,  1.00208983e-01,\n",
       "        -3.52550596e-02, -3.89532335e-02, -1.83895528e-01, -1.49326846e-01,\n",
       "         5.23311496e-02, -2.16293689e-02, -3.96065116e-02,  5.86622208e-02])]"
      ]
     },
     "execution_count": 9,
     "metadata": {},
     "output_type": "execute_result"
    }
   ],
   "source": [
    "known_encodings"
   ]
  },
  {
   "cell_type": "code",
   "execution_count": 5,
   "id": "f8b47b18",
   "metadata": {},
   "outputs": [],
   "source": [
    "#加载1张未知面孔的测试图片（test）\n",
    "image_to_test = face_recognition.load_image_file(r\"C:\\Users\\lmy\\Desktop\\test.jpg\")"
   ]
  },
  {
   "cell_type": "code",
   "execution_count": 6,
   "id": "039583ab",
   "metadata": {},
   "outputs": [],
   "source": [
    "#计算图片对应的编码\n",
    "image_to_test_encoding= face_recognition.face_encodings(image_to_test)[0]"
   ]
  },
  {
   "cell_type": "code",
   "execution_count": 7,
   "id": "7426441c",
   "metadata": {},
   "outputs": [],
   "source": [
    "#计算未知图片与已知的两个面孔的距离\n",
    "face_distances =face_recognition.face_distance(known_encodings,image_to_test_encoding)"
   ]
  },
  {
   "cell_type": "raw",
   "id": "fde7560d",
   "metadata": {},
   "source": [
    "for i,face_distance in enumerate(face_distances):\n",
    "    print(\"The test image has adistance of {:.2} from known image #{}\".format(face_distance,i))\n",
    "    print(\"- With a normal cutoff of 0.6,would the test image match the known image?{}\".format(face_distance<0.6))\n",
    "    print(\"- With a very strict cutoff of 0.5,would the test image match the known image? {}\".format(face_distance<0.5))\n",
    "    print()"
   ]
  },
  {
   "cell_type": "code",
   "execution_count": 8,
   "id": "fd96036a",
   "metadata": {},
   "outputs": [
    {
     "name": "stdout",
     "output_type": "stream",
     "text": [
      "0.38161688946583444\n",
      "0.8793238220188805\n"
     ]
    }
   ],
   "source": [
    "for i in face_distances:\n",
    "    print(i)"
   ]
  },
  {
   "cell_type": "code",
   "execution_count": 23,
   "id": "a871c7cc",
   "metadata": {},
   "outputs": [
    {
     "data": {
      "text/plain": [
       "array([0.38161689, 0.87932382])"
      ]
     },
     "execution_count": 23,
     "metadata": {},
     "output_type": "execute_result"
    }
   ],
   "source": [
    "face_distances"
   ]
  },
  {
   "cell_type": "code",
   "execution_count": 55,
   "id": "1b516d15",
   "metadata": {},
   "outputs": [
    {
     "data": {
      "text/plain": [
       "2"
      ]
     },
     "execution_count": 55,
     "metadata": {},
     "output_type": "execute_result"
    }
   ],
   "source": [
    "len(known_encodings)"
   ]
  },
  {
   "cell_type": "code",
   "execution_count": 23,
   "id": "c5670d8a",
   "metadata": {},
   "outputs": [
    {
     "data": {
      "text/plain": [
       "0.38161688946583444"
      ]
     },
     "execution_count": 23,
     "metadata": {},
     "output_type": "execute_result"
    }
   ],
   "source": [
    "face_distances[my_array[0]]"
   ]
  },
  {
   "cell_type": "code",
   "execution_count": 19,
   "id": "df4ba7d0",
   "metadata": {},
   "outputs": [],
   "source": [
    "# 创建一个字典\n",
    "my_array = {}\n",
    "#     \"label1\": \"element1\",\n",
    "#     \"label2\": \"element2\",\n",
    "#     \"label3\": \"element3\"\n",
    "# 获取标签对应的元素\n",
    "# element = my_array[\"label1\"]\n",
    "# print(element)  # 输出：element1\n",
    "\n",
    "\n"
   ]
  },
  {
   "cell_type": "code",
   "execution_count": 20,
   "id": "eae33f58",
   "metadata": {},
   "outputs": [],
   "source": [
    "jishuface_class=0"
   ]
  },
  {
   "cell_type": "code",
   "execution_count": 28,
   "id": "d5016cfe",
   "metadata": {},
   "outputs": [],
   "source": [
    "jishuface_class+=1"
   ]
  },
  {
   "cell_type": "code",
   "execution_count": 29,
   "id": "3c73c2e0",
   "metadata": {},
   "outputs": [
    {
     "data": {
      "text/plain": [
       "3"
      ]
     },
     "execution_count": 29,
     "metadata": {},
     "output_type": "execute_result"
    }
   ],
   "source": [
    "jishuface_class"
   ]
  },
  {
   "cell_type": "code",
   "execution_count": 21,
   "id": "24dfc312",
   "metadata": {},
   "outputs": [],
   "source": [
    "my_array[jishuface_class]=0"
   ]
  },
  {
   "cell_type": "code",
   "execution_count": 22,
   "id": "ec77f35c",
   "metadata": {},
   "outputs": [
    {
     "name": "stdout",
     "output_type": "stream",
     "text": [
      "0 0\n"
     ]
    }
   ],
   "source": [
    "# 遍历字典的键值对\n",
    "for label, element in my_array.items():\n",
    "    print(label, element)"
   ]
  },
  {
   "cell_type": "markdown",
   "id": "de13f213",
   "metadata": {},
   "source": [
    "## softmax 公式"
   ]
  },
  {
   "cell_type": "code",
   "execution_count": 58,
   "id": "7d1eaa72",
   "metadata": {},
   "outputs": [],
   "source": [
    "import numpy\n",
    "def softmax(inMatrix):\n",
    "    m,n=numpy.shape(inMatrix)\n",
    "    outMatrix= numpy.mat(numpy.zeros(m,n))\n",
    "    soft_sum=0\n",
    "    for idx in range(0,n):\n",
    "        outMatrix[0,idx]=math.exp(inMatrix[0,idx])\n",
    "        sift_sum+= outMatrix[0,idx]\n",
    "    for idx in range(0,n):\n",
    "        outMatrix[0,idx]=outMatrix[0,idx]/soft_sum\n",
    "    return outMatrix"
   ]
  },
  {
   "cell_type": "code",
   "execution_count": 57,
   "id": "1fd4b223",
   "metadata": {},
   "outputs": [],
   "source": [
    "a=numpy.array([[1,2,1,1,2,1,2,3,4]])"
   ]
  },
  {
   "cell_type": "code",
   "execution_count": 16,
   "id": "c8f6d879",
   "metadata": {},
   "outputs": [],
   "source": [
    "import tensorflow as tf"
   ]
  },
  {
   "cell_type": "code",
   "execution_count": 2,
   "id": "3c946447",
   "metadata": {},
   "outputs": [
    {
     "data": {
      "text/plain": [
       "<tf.Tensor: shape=(), dtype=float32, numpy=2.0>"
      ]
     },
     "execution_count": 2,
     "metadata": {},
     "output_type": "execute_result"
    }
   ],
   "source": [
    "tf.constant(1.)+tf.constant(1.)"
   ]
  },
  {
   "cell_type": "code",
   "execution_count": 3,
   "id": "95c0c3fc",
   "metadata": {},
   "outputs": [
    {
     "name": "stdout",
     "output_type": "stream",
     "text": [
      "tf.Tensor(b'Hello Tensorflow 2.1', shape=(), dtype=string)\n"
     ]
    }
   ],
   "source": [
    "text = tf.constant(\"Hello Tensorflow 2.1\")\n",
    "print(text)"
   ]
  },
  {
   "cell_type": "code",
   "execution_count": 8,
   "id": "248775ee",
   "metadata": {},
   "outputs": [],
   "source": [
    "from sklearn.datasets import load_iris"
   ]
  },
  {
   "cell_type": "code",
   "execution_count": 9,
   "id": "5ccbcbd2",
   "metadata": {},
   "outputs": [],
   "source": [
    "import numpy as np"
   ]
  },
  {
   "cell_type": "code",
   "execution_count": 10,
   "id": "c90f98ad",
   "metadata": {},
   "outputs": [],
   "source": [
    "data = load_iris()"
   ]
  },
  {
   "cell_type": "code",
   "execution_count": 11,
   "id": "2723cd93",
   "metadata": {},
   "outputs": [],
   "source": [
    "iris_target =data.target"
   ]
  },
  {
   "cell_type": "code",
   "execution_count": 13,
   "id": "c63a89be",
   "metadata": {},
   "outputs": [],
   "source": [
    "iris_data=np.float32(data.data)"
   ]
  },
  {
   "cell_type": "code",
   "execution_count": 20,
   "id": "02602f6d",
   "metadata": {},
   "outputs": [],
   "source": [
    "iris_target = np.float32(tf.keras.utils.to_categorical(iris_target,num_classes=3))"
   ]
  },
  {
   "cell_type": "code",
   "execution_count": 22,
   "id": "aef5dccf",
   "metadata": {},
   "outputs": [],
   "source": [
    "iris_data=tf.data.Dataset.from_tensor_slices(iris_data).batch(50)"
   ]
  },
  {
   "cell_type": "code",
   "execution_count": 25,
   "id": "a93423e7",
   "metadata": {},
   "outputs": [],
   "source": [
    "iris_target=tf.data.Dataset.from_tensor_slices(iris_target).batch(50)"
   ]
  },
  {
   "cell_type": "code",
   "execution_count": 26,
   "id": "27ca6678",
   "metadata": {},
   "outputs": [
    {
     "data": {
      "text/plain": [
       "<BatchDataset shapes: (None, 3), types: tf.float32>"
      ]
     },
     "execution_count": 26,
     "metadata": {},
     "output_type": "execute_result"
    }
   ],
   "source": [
    "iris_target"
   ]
  },
  {
   "cell_type": "markdown",
   "id": "dcc84475",
   "metadata": {},
   "source": [
    "## 人脸检测"
   ]
  },
  {
   "cell_type": "code",
   "execution_count": 38,
   "id": "5b0e942a",
   "metadata": {},
   "outputs": [],
   "source": [
    "import cv2\n",
    "import dlib\n",
    "import numpy as np"
   ]
  },
  {
   "cell_type": "code",
   "execution_count": 28,
   "id": "a8b7f59d",
   "metadata": {},
   "outputs": [],
   "source": [
    "image = cv2.imread(r\"C:\\Users\\lmy\\Desktop\\train.jpg\")"
   ]
  },
  {
   "cell_type": "code",
   "execution_count": 36,
   "id": "d5ede0ec",
   "metadata": {},
   "outputs": [
    {
     "name": "stdout",
     "output_type": "stream",
     "text": [
      "[rectangle(582,361,915,694)]\n"
     ]
    }
   ],
   "source": [
    "detector = dlib.get_frontal_face_detector()#Dlib创建的检测器\n",
    "boundarys= detector(image,2)#对人脸图片进行检测，找到人脸的位置框\n",
    "print(list(boundarys))#打印位置框内容"
   ]
  },
  {
   "cell_type": "markdown",
   "id": "16812aad",
   "metadata": {},
   "source": [
    "#### 框体上方 ：rectangle[1]  使用函数rectangle.top()获取\n",
    "#### 框体下方 ：rectangle[3]  使用函数rectangle.bottom()获取\n",
    "#### 框体左方 ：rectangle[0]  使用函数rectangle.left()获取\n",
    "#### 框体右方 ：rectangle[2]  使用函数rectangle.right()获取"
   ]
  },
  {
   "cell_type": "code",
   "execution_count": 37,
   "id": "841ec6c4",
   "metadata": {},
   "outputs": [
    {
     "name": "stdout",
     "output_type": "stream",
     "text": [
      "[582, 361, 915, 694]\n"
     ]
    },
    {
     "name": "stderr",
     "output_type": "stream",
     "text": [
      "C:\\Users\\lmy\\AppData\\Local\\Temp\\ipykernel_11408\\688444738.py:4: DeprecationWarning: `np.int` is a deprecated alias for the builtin `int`. To silence this warning, use `int` by itself. Doing this will not modify any behavior and is safe. When replacing `np.int`, you may wish to use e.g. `np.int64` or `np.int32` to specify the precision. If you wish to review your current use, check the release note link for additional information.\n",
      "Deprecated in NumPy 1.20; for more details and guidance: https://numpy.org/devdocs/release/1.20.0-notes.html#deprecations\n",
      "  top = np.int(rectangle.top())\n",
      "C:\\Users\\lmy\\AppData\\Local\\Temp\\ipykernel_11408\\688444738.py:5: DeprecationWarning: `np.int` is a deprecated alias for the builtin `int`. To silence this warning, use `int` by itself. Doing this will not modify any behavior and is safe. When replacing `np.int`, you may wish to use e.g. `np.int64` or `np.int32` to specify the precision. If you wish to review your current use, check the release note link for additional information.\n",
      "Deprecated in NumPy 1.20; for more details and guidance: https://numpy.org/devdocs/release/1.20.0-notes.html#deprecations\n",
      "  bottom=np.int(rectangle.bottom())\n",
      "C:\\Users\\lmy\\AppData\\Local\\Temp\\ipykernel_11408\\688444738.py:6: DeprecationWarning: `np.int` is a deprecated alias for the builtin `int`. To silence this warning, use `int` by itself. Doing this will not modify any behavior and is safe. When replacing `np.int`, you may wish to use e.g. `np.int64` or `np.int32` to specify the precision. If you wish to review your current use, check the release note link for additional information.\n",
      "Deprecated in NumPy 1.20; for more details and guidance: https://numpy.org/devdocs/release/1.20.0-notes.html#deprecations\n",
      "  left = np.int(rectangle.left())\n",
      "C:\\Users\\lmy\\AppData\\Local\\Temp\\ipykernel_11408\\688444738.py:7: DeprecationWarning: `np.int` is a deprecated alias for the builtin `int`. To silence this warning, use `int` by itself. Doing this will not modify any behavior and is safe. When replacing `np.int`, you may wish to use e.g. `np.int64` or `np.int32` to specify the precision. If you wish to review your current use, check the release note link for additional information.\n",
      "Deprecated in NumPy 1.20; for more details and guidance: https://numpy.org/devdocs/release/1.20.0-notes.html#deprecations\n",
      "  right=np.int(rectangle.right())\n"
     ]
    }
   ],
   "source": [
    "draw = image.copy()\n",
    "rectangles=list(boundarys)\n",
    "for rectangle in rectangles:\n",
    "    top = np.int(rectangle.top())\n",
    "    bottom=np.int(rectangle.bottom())\n",
    "    left = np.int(rectangle.left())\n",
    "    right=np.int(rectangle.right())\n",
    "\n",
    "print([left,top,right,bottom])"
   ]
  },
  {
   "cell_type": "markdown",
   "id": "1ee2e693",
   "metadata": {},
   "source": [
    "## 人脸截取"
   ]
  },
  {
   "cell_type": "code",
   "execution_count": 25,
   "id": "33716256",
   "metadata": {},
   "outputs": [
    {
     "ename": "TypeError",
     "evalue": "__call__(): incompatible function arguments. The following argument types are supported:\n    1. (self: _dlib_pybind11.fhog_object_detector, image: numpy.ndarray, upsample_num_times: int = 0) -> _dlib_pybind11.rectangles\n\nInvoked with: <_dlib_pybind11.fhog_object_detector object at 0x0000024A1F7F5FB0>, None, 2",
     "output_type": "error",
     "traceback": [
      "\u001b[1;31m---------------------------------------------------------------------------\u001b[0m",
      "\u001b[1;31mTypeError\u001b[0m                                 Traceback (most recent call last)",
      "Cell \u001b[1;32mIn[25], line 6\u001b[0m\n\u001b[0;32m      4\u001b[0m image \u001b[38;5;241m=\u001b[39m cv2\u001b[38;5;241m.\u001b[39mimread(\u001b[38;5;124mr\u001b[39m\u001b[38;5;124m\"\u001b[39m\u001b[38;5;124mC:\u001b[39m\u001b[38;5;124m\\\u001b[39m\u001b[38;5;124mUsers\u001b[39m\u001b[38;5;124m\\\u001b[39m\u001b[38;5;124mlmy\u001b[39m\u001b[38;5;124m\\\u001b[39m\u001b[38;5;124mDesktop\u001b[39m\u001b[38;5;124m\\\u001b[39m\u001b[38;5;124m人脸数据集\u001b[39m\u001b[38;5;124m\\\u001b[39m\u001b[38;5;124m合影\u001b[39m\u001b[38;5;124m\\\u001b[39m\u001b[38;5;124m1.jpg\u001b[39m\u001b[38;5;124m\"\u001b[39m)\n\u001b[0;32m      5\u001b[0m detector \u001b[38;5;241m=\u001b[39m dlib\u001b[38;5;241m.\u001b[39mget_frontal_face_detector()\u001b[38;5;66;03m#Dlib创建的检测器\u001b[39;00m\n\u001b[1;32m----> 6\u001b[0m boundarys\u001b[38;5;241m=\u001b[39m \u001b[43mdetector\u001b[49m\u001b[43m(\u001b[49m\u001b[43mimage\u001b[49m\u001b[43m,\u001b[49m\u001b[38;5;241;43m2\u001b[39;49m\u001b[43m)\u001b[49m\u001b[38;5;66;03m#对人脸图片进行检测，找到人脸的位置框\u001b[39;00m\n\u001b[0;32m      7\u001b[0m draw \u001b[38;5;241m=\u001b[39m image\u001b[38;5;241m.\u001b[39mcopy()\n\u001b[0;32m      8\u001b[0m rectangles\u001b[38;5;241m=\u001b[39m\u001b[38;5;28mlist\u001b[39m(boundarys)\n",
      "\u001b[1;31mTypeError\u001b[0m: __call__(): incompatible function arguments. The following argument types are supported:\n    1. (self: _dlib_pybind11.fhog_object_detector, image: numpy.ndarray, upsample_num_times: int = 0) -> _dlib_pybind11.rectangles\n\nInvoked with: <_dlib_pybind11.fhog_object_detector object at 0x0000024A1F7F5FB0>, None, 2"
     ]
    }
   ],
   "source": [
    "import cv2\n",
    "import dlib\n",
    "import numpy as np\n",
    "image = cv2.imread(r\"C:\\Users\\lmy\\Desktop\\人脸数据集\\合影\\1.jpg\")\n",
    "detector = dlib.get_frontal_face_detector()#Dlib创建的检测器\n",
    "boundarys= detector(image,2)#对人脸图片进行检测，找到人脸的位置框\n",
    "draw = image.copy()\n",
    "rectangles=list(boundarys)\n",
    "for rectangle in rectangles:\n",
    "    top = np.int(rectangle.top())\n",
    "    bottom=np.int(rectangle.bottom())\n",
    "    left = np.int(rectangle.left())\n",
    "    right=np.int(rectangle.right())\n",
    "    \n",
    "    W = -int(left)+int(right) #获取人脸框体的宽度\n",
    "    H = -int(top)+int(bottom) #获取人脸框体的高度\n",
    "    paddingH=0.01*W\n",
    "    paddingW=0.02*H\n",
    "    #将人脸的图片单独“切割出来”\n",
    "    crop_img=image[int(top+paddingH):int(bottom-paddingH),int(left-paddingW):int(right+paddingW)]\n",
    "    #进行人脸框体描绘\n",
    "    cv2.rectangle(draw,(int(left),int(top)),(int(right),int(bottom)),(255,0,0),1)\n",
    "    cv2.imshow(\"test\",draw)\n",
    "    cv2.waitKey(0)\n",
    "    cv2.destroyAllWindows()\n",
    "print([left,top,right,bottom])"
   ]
  },
  {
   "cell_type": "code",
   "execution_count": null,
   "id": "4a0c852d",
   "metadata": {},
   "outputs": [],
   "source": [
    "file_dirs"
   ]
  }
 ],
 "metadata": {
  "kernelspec": {
   "display_name": "Python 3 (ipykernel)",
   "language": "python",
   "name": "python3"
  },
  "language_info": {
   "codemirror_mode": {
    "name": "ipython",
    "version": 3
   },
   "file_extension": ".py",
   "mimetype": "text/x-python",
   "name": "python",
   "nbconvert_exporter": "python",
   "pygments_lexer": "ipython3",
   "version": "3.9.7"
  }
 },
 "nbformat": 4,
 "nbformat_minor": 5
}
