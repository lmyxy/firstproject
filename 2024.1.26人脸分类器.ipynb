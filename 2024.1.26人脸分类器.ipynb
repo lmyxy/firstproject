{
 "cells": [
  {
   "cell_type": "code",
   "execution_count": 6,
   "id": "7ef49c13",
   "metadata": {},
   "outputs": [],
   "source": [
    "import cv2\n",
    "\n",
    "faceCascade = cv2.CascadeClassifier(r\"D:\\anaconda3\\Lib\\site-packages\\cv2\\data\\haarcascade_frontalface_default.xml\")"
   ]
  },
  {
   "cell_type": "code",
   "execution_count": 7,
   "id": "c8224997",
   "metadata": {},
   "outputs": [],
   "source": [
    "img =cv2.imread(r\"C:\\Users\\lmy\\Desktop\\test.jpg\")#读取图片  target.png   age_gender.jpg"
   ]
  },
  {
   "cell_type": "code",
   "execution_count": 8,
   "id": "5e808743",
   "metadata": {},
   "outputs": [
    {
     "ename": "error",
     "evalue": "OpenCV(4.7.0) D:\\a\\opencv-python\\opencv-python\\opencv\\modules\\imgproc\\src\\color.cpp:182: error: (-215:Assertion failed) !_src.empty() in function 'cv::cvtColor'\n",
     "output_type": "error",
     "traceback": [
      "\u001b[1;31m---------------------------------------------------------------------------\u001b[0m",
      "\u001b[1;31merror\u001b[0m                                     Traceback (most recent call last)",
      "Cell \u001b[1;32mIn[8], line 1\u001b[0m\n\u001b[1;32m----> 1\u001b[0m imgGray1 \u001b[38;5;241m=\u001b[39m \u001b[43mcv2\u001b[49m\u001b[38;5;241;43m.\u001b[39;49m\u001b[43mcvtColor\u001b[49m\u001b[43m(\u001b[49m\u001b[43mimg\u001b[49m\u001b[43m,\u001b[49m\u001b[43m \u001b[49m\u001b[43mcv2\u001b[49m\u001b[38;5;241;43m.\u001b[39;49m\u001b[43mCOLOR_BGR2GRAY\u001b[49m\u001b[43m)\u001b[49m\n",
      "\u001b[1;31merror\u001b[0m: OpenCV(4.7.0) D:\\a\\opencv-python\\opencv-python\\opencv\\modules\\imgproc\\src\\color.cpp:182: error: (-215:Assertion failed) !_src.empty() in function 'cv::cvtColor'\n"
     ]
    }
   ],
   "source": [
    "imgGray1 = cv2.cvtColor(img, cv2.COLOR_BGR2GRAY)"
   ]
  },
  {
   "cell_type": "code",
   "execution_count": 5,
   "id": "c5febd6a",
   "metadata": {},
   "outputs": [
    {
     "ename": "NameError",
     "evalue": "name 'imgGray1' is not defined",
     "output_type": "error",
     "traceback": [
      "\u001b[1;31m---------------------------------------------------------------------------\u001b[0m",
      "\u001b[1;31mNameError\u001b[0m                                 Traceback (most recent call last)",
      "Cell \u001b[1;32mIn[5], line 1\u001b[0m\n\u001b[1;32m----> 1\u001b[0m face1 \u001b[38;5;241m=\u001b[39m faceCascade\u001b[38;5;241m.\u001b[39mdetectMultiScale(\u001b[43mimgGray1\u001b[49m,\u001b[38;5;241m1.03\u001b[39m,\u001b[38;5;241m4\u001b[39m)\n",
      "\u001b[1;31mNameError\u001b[0m: name 'imgGray1' is not defined"
     ]
    }
   ],
   "source": [
    "face1 = faceCascade.detectMultiScale(imgGray1,1.03,4)"
   ]
  },
  {
   "cell_type": "code",
   "execution_count": 43,
   "id": "81ede2e1",
   "metadata": {},
   "outputs": [],
   "source": [
    "for (x, y, w, h) in face1:\n",
    "    cv2.rectangle(img, (x, y), (x+w, y+h), (25, 0, 0), 2)"
   ]
  },
  {
   "cell_type": "code",
   "execution_count": 44,
   "id": "e7adff64",
   "metadata": {},
   "outputs": [],
   "source": [
    "cv2.imshow(\"Result1\", img)\n",
    "cv2.waitKey(0)\n",
    "cv2.destroyAllWindows()#关闭"
   ]
  },
  {
   "cell_type": "code",
   "execution_count": null,
   "id": "7bb7a674",
   "metadata": {},
   "outputs": [],
   "source": [
    "\n",
    "imgGray1 = cv2.cvtColor(img1, cv2.COLOR_BGR2GRAY)\n",
    "imgGray2 = cv2.cvtColor(img2, cv2.COLOR_BGR2GRAY)\n",
    "imgGray3 = cv2.cvtColor(img3, cv2.COLOR_BGR2GRAY)\n",
    "imgGray4 = cv2.cvtColor(img4, cv2.COLOR_BGR2GRAY)\n",
    "\n",
    "face1 = faceCascade.detectMultiScale(imgGray1, 1.1, 4)\n",
    "face2 = faceCascade.detectMultiScale(imgGray2, 1.2, 4)\n",
    "face3 = faceCascade.detectMultiScale(imgGray3, 1.3, 5)\n",
    "face4 = faceCascade.detectMultiScale(imgGray4, 1.2, 8)\n",
    "\n",
    "# print(face1)\n",
    "# print('***************************************************')\n",
    "# print(face2)\n",
    "# print('***************************************************')\n",
    "# print(face3)\n",
    "# print('***************************************************')\n",
    "# print(face4)\n",
    "\n",
    "for (x, y, w, h) in face1:\n",
    "    cv2.rectangle(img1, (x, y), (x+w, y+h), (255, 0, 0), 2)\n",
    "for (x, y, w, h) in face2:\n",
    "    cv2.rectangle(img2, (x, y), (x+w, y+h), (0, 255, 0), 2)\n",
    "for (x, y, w, h) in face3:\n",
    "    cv2.rectangle(img3, (x, y), (x+w, y+h), (0, 0, 255), 2)\n",
    "for (x, y, w, h) in face4:\n",
    "    cv2.rectangle(img4, (x, y), (x+w, y+h), (245, 148, 15), 2)\n",
    "\n",
    "cv2.imshow(\"Result1\", img1)\n",
    "cv2.imshow(\"Result2\", img2)\n",
    "cv2.imshow(\"Result3\", img3)\n",
    "cv2.imshow(\"Result4\", img4)\n",
    "cv2.waitKey(0)\n",
    "\n"
   ]
  },
  {
   "cell_type": "code",
   "execution_count": 42,
   "id": "73a23e9c",
   "metadata": {},
   "outputs": [
    {
     "name": "stdout",
     "output_type": "stream",
     "text": [
      "[[104 792  36  36]\n",
      " [688 760  49  49]\n",
      " [147 197 105 105]\n",
      " [566 389  86  86]\n",
      " [358 398 171 171]\n",
      " [662 390 187 187]\n",
      " [311  71 129 129]\n",
      " [493 164 213 213]\n",
      " [839 423  54  54]\n",
      " [619 102  94  94]]\n"
     ]
    }
   ],
   "source": [
    "print(face1)"
   ]
  },
  {
   "cell_type": "code",
   "execution_count": null,
   "id": "151d0223",
   "metadata": {},
   "outputs": [],
   "source": []
  }
 ],
 "metadata": {
  "kernelspec": {
   "display_name": "Python 3 (ipykernel)",
   "language": "python",
   "name": "python3"
  },
  "language_info": {
   "codemirror_mode": {
    "name": "ipython",
    "version": 3
   },
   "file_extension": ".py",
   "mimetype": "text/x-python",
   "name": "python",
   "nbconvert_exporter": "python",
   "pygments_lexer": "ipython3",
   "version": "3.9.7"
  }
 },
 "nbformat": 4,
 "nbformat_minor": 5
}
